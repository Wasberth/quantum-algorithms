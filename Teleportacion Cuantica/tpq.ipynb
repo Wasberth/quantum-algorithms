{
 "cells": [
  {
   "cell_type": "markdown",
   "metadata": {},
   "source": [
    "# Teleportación cuántica\n",
    "\n",
    "Es un proceso en el cual se transmite información cupantica de una posición a ora. El intercambio de información es mediante un canal clásico, por lo que no puede ir más rápido que la velocidad de la luz.\n",
    "\n",
    "El objetivo de esta técnica es transmitir un qubit entre un emisor (Alice) y un receptor (Bob)\n",
    "\n",
    "Se usan:\n",
    "- Entrelazamiento\n",
    "- Uso de Bell\n",
    "- Medio clásico\n",
    "\n",
    "### Paso 1:\n",
    "\n",
    "Alice y Bob comparten un estado entrelazado, comúnmente un estado de Bell.\n",
    "Se genera un par de qubits entrelazados y se comparten cada uno un qubit.\n",
    "\n",
    "### Paso 2:\n",
    "\n",
    "Se le aplica una CNot a los qubits de Alice para entrelazarlos.\n",
    "\n",
    "### Paso 3:\n",
    "Se le aplica una Hadamard al qubit que se va a teleportar\n",
    "\n",
    "Después, de forma práctica, se utiliza un medio clásico donde se miden los qubits que tiene Alice, le pasa el resultado a Bob para aplicarle algunas compuertas y obtener el qubit que tenía Alice\n",
    "\n",
    "De forma teórica, aplicaremos unas compuertas control para obtener el mismo resultado.\n",
    "\n",
    "Las ecuaciones están en el cuaderno \n"
   ]
  },
  {
   "cell_type": "code",
   "execution_count": 6,
   "metadata": {},
   "outputs": [],
   "source": [
    "import numpy as np\n",
    "from qiskit import QuantumCircuit, transpile, assemble\n",
    "from qiskit_aer import Aer\n",
    "from qiskit.visualization import plot_histogram\n",
    "import json\n",
    "from qiskit.quantum_info import Statevector\n",
    "import random"
   ]
  },
  {
   "cell_type": "code",
   "execution_count": 52,
   "metadata": {},
   "outputs": [
    {
     "name": "stdout",
     "output_type": "stream",
     "text": [
      "El estado incial es el siguiente:\n"
     ]
    },
    {
     "data": {
      "text/latex": [
       "$$0.4560387724 |000\\rangle+0.8899599081 |100\\rangle$$"
      ],
      "text/plain": [
       "<IPython.core.display.Latex object>"
      ]
     },
     "metadata": {},
     "output_type": "display_data"
    },
    {
     "name": "stdout",
     "output_type": "stream",
     "text": [
      "Con probabilidades a=0.20797136190430554, b=0.7920286380956945\n"
     ]
    }
   ],
   "source": [
    "\n",
    "alpha = random.random()\n",
    "beta = 1-alpha\n",
    "vec = np.zeros(8)\n",
    "vec[0b000] = np.sqrt(alpha)\n",
    "vec[0b100] = np.sqrt(beta)\n",
    "initialState = Statevector(vec, dims=(2,2,2))\n",
    "print(\"El estado incial es el siguiente:\")\n",
    "display(initialState.draw(\"latex\"))\n",
    "print(f\"Con probabilidades a={alpha}, b={beta}\")\n"
   ]
  },
  {
   "cell_type": "code",
   "execution_count": 72,
   "metadata": {},
   "outputs": [
    {
     "data": {
      "image/png": "[encoded data removed]",
      "text/plain": [
       "<Figure size 956.385x367.889 with 1 Axes>"
      ]
     },
     "execution_count": 72,
     "metadata": {},
     "output_type": "execute_result"
    }
   ],
   "source": [
    "circuit = QuantumCircuit(3, 3)\n",
    "circuit.initialize(initialState)\n",
    "circuit.h(0)\n",
    "circuit.cx(0, 1)\n",
    "circuit.cx(2, 1)\n",
    "circuit.h(2)\n",
    "circuit.cx(1, 0)\n",
    "circuit.cz(2, 0)\n",
    "circuit.measure(1, 0)\n",
    "circuit.measure(2, 1)\n",
    "circuit.draw(\"mpl\")"
   ]
  },
  {
   "cell_type": "code",
   "execution_count": 73,
   "metadata": {},
   "outputs": [
    {
     "data": {
      "text/latex": [
       "$$0.4560387724 |100\\rangle+0.8899599081 |101\\rangle$$"
      ],
      "text/plain": [
       "<IPython.core.display.Latex object>"
      ]
     },
     "execution_count": 73,
     "metadata": {},
     "output_type": "execute_result"
    }
   ],
   "source": [
    "backend = Aer.get_backend('statevector_simulator')\n",
    "compiled = transpile(circuit, backend)\n",
    "job = backend.run(compiled, shots=2048)\n",
    "result = job.result()\n",
    "\n",
    "finalvector = result.get_statevector()\n",
    "finalvector.draw(\"latex\")"
   ]
  }
 ],
 "metadata": {
  "kernelspec": {
   "display_name": "Python 3",
   "language": "python",
   "name": "python3"
  },
  "language_info": {
   "codemirror_mode": {
    "name": "ipython",
    "version": 3
   },
   "file_extension": ".py",
   "mimetype": "text/x-python",
   "name": "python",
   "nbconvert_exporter": "python",
   "pygments_lexer": "ipython3",
   "version": "3.12.5"
  }
 },
 "nbformat": 4,
 "nbformat_minor": 2
}
